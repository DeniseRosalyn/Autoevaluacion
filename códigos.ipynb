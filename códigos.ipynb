{
 "cells": [
  {
   "cell_type": "markdown",
   "metadata": {
    "id": "Kq1pA05dZaj4"
   },
   "source": [
    "**Ingresar el comando faltante**"
   ]
  },
  {
   "cell_type": "code",
   "execution_count": 1,
   "metadata": {
    "id": "-m7Rzp0TZY7M"
   },
   "outputs": [],
   "source": [
    "import bs4"
   ]
  },
  {
   "cell_type": "markdown",
   "metadata": {
    "id": "ddFJG5kRZsxR"
   },
   "source": [
    "***Importar la biblioteca de Python***"
   ]
  },
  {
   "cell_type": "code",
   "execution_count": 2,
   "metadata": {
    "id": "nHYveuFRXPvm"
   },
   "outputs": [],
   "source": [
    "import urllib.request\n",
    "from bs4 import BeautifulSoup"
   ]
  },
  {
   "cell_type": "markdown",
   "metadata": {
    "id": "wadMnBiOa_JU"
   },
   "source": [
    "***Extraer el HTML de la página web*** : https://www.yelp.com/biz/milk-and-cream-cereal-bar-new-york?osq=Ice+Cream"
   ]
  },
  {
   "cell_type": "code",
   "execution_count": 3,
   "metadata": {
    "colab": {
     "base_uri": "https://localhost:8080/",
     "height": 1000
    },
    "id": "3NbCMTaRbbM7",
    "outputId": "9c97521d-9d80-45fb-8778-1f51d21f9418",
    "scrolled": true
   },
   "outputs": [],
   "source": [
    "url = 'https://www.yelp.com/biz/milk-and-cream-cereal-bar-new-york?osq=Ice+Cream'\n",
    "ourUrl=urllib.request.urlopen(url)\n",
    "soup=BeautifulSoup(ourUrl,'html.parser')"
   ]
  },
  {
   "cell_type": "markdown",
   "metadata": {
    "id": "3eDiIctkdWQA"
   },
   "source": [
    "***Ubica y Scraping las reseñas***"
   ]
  },
  {
   "cell_type": "code",
   "execution_count": 7,
   "metadata": {
    "id": "fKz8SJeqdVI2"
   },
   "outputs": [
    {
     "name": "stdout",
     "output_type": "stream",
     "text": [
      "<span class=\"lemon--span__373c0__3997G raw__373c0__3rcx7\" lang=\"en\">I love this place! The last time I went was before Covid, but every time I've gone the service is good and the ice cream is always so tasty. I love bringing out of town friends here as its a great fun foodie place to show off.</span>\n",
      "<span class=\"lemon--span__373c0__3997G raw__373c0__3rcx7\" lang=\"en\">They had a long line on a Friday during COVID-19, most people respected the 6 ft distance but many didn't. The ice cream is delicious and I love the cereal twist.</span>\n",
      "<span class=\"lemon--span__373c0__3997G raw__373c0__3rcx7\" lang=\"en\">there was a line at the store today (Sunday) with a ~10 wait! the workers wore masks and were patient. <br/><br/>the serving size was very generous, the cereal well blended &amp; mixed, the topping crushed and sprinkled on top. the standard order was 1 ice cream base (vanilla/cookie dough), 1 cereal, 1 topping. the cereal they give is a generous amount as I tasted it sufficiently in each bite:) the topping was crushed so fine you couldn't tell what it was sprinkled a thin layer on top of my ice cream, overall delicious:p the vanilla base was not too sweet and didn't overpower the the taste of the cereal &amp; toppings. <br/><br/>A gentle reminder to those visiting during COVID - please wear a mask to respect workers and vulnerable populations:)</span>\n",
      "<span class=\"lemon--span__373c0__3997G raw__373c0__3rcx7\" lang=\"en\">After a nice day at the park, my friend and I decided to go into Chinatown to get some ice cream. We decided on Milk &amp; Cream because it has really good reviews, and when we saw the line we knew the reviews must have been true. <br/><br/>Order:<br/>- Vanilla ice cream, Oreo cereal, rainbow sprinkles <br/><br/>Pros:<br/>- Great tasting ice cream <br/>- Cute outdoor seating area<br/>- Themed ~ Mutant Ninja Turtles theme rn <br/><br/>Cons:<br/>- Long lines<br/>- Your typical pricey, but pretty ice cream <br/><br/>Overall: Great tasting ice cream. If you don't like super sweet ice cream, I wouldn't recommend the fruity pebbles. But my oreo ice cream was delicious</span>\n",
      "<span class=\"lemon--span__373c0__3997G raw__373c0__3rcx7\" lang=\"en\">Ice cream blended with any cereal of your choice is the premise of a business pulled straight out of a sugar fiend's wildest dreams, and here it is come to life. They've really blown up after many media appearances as well as partnerships with Spot Dessert Bar, with influencers like @foodbabyny, and even with Nickelodeon. Their marketing tactics are slick but they actually have a quality product to show for it. My sweet tooth has brought me here on a number of occasions over the years and I've tried everything from their chocolate s'mores galore to their milkshakes.<br/><br/>I think what really worked for Milk &amp; Cream is that they were one of the earlier purveyors of dessert made for the Instagram age. Each ice cream swirl is made picture perfectly, replete with cute toppings like teddy grahams and caramel drizzles. There's a bright neon sign up front that people love to take photos in front of. Unlike many other social media dessert playgrounds that lack any substance, the ice cream at Milk &amp; Cream is quite tasty, and you have a long list of choices when it comes to what cereal you want blended into it. Most of the classics are on the menu, and the machine they have to blend the ingredients together does a great job of distributing just the right amount of cereal throughout the ice cream, so each bite is equally satisfying.<br/><br/>With every subsequent visit I am finding the ice cream here more and more overly sweet, and it doesn't help that every single cereal choice they have is a very sweet one, almost without exception. It would be nice to have more neutral options like Crispx, plain Cheerios, or even Kix, since the ice cream itself is already very sweet. I realize though they're not catering to palates like mine, as much as I crave sweets, but to people who would gladly make \"there's no such thing as too sweet\" the mantra of their life. If this is you, this is your place.</span>\n",
      "<span class=\"lemon--span__373c0__3997G raw__373c0__3rcx7\" lang=\"en\">I love this place! Such a cool concept. They have two ice cream flavors, vanilla and cookies and cream and you are allowed to mix in any cereal into the ice cream.<br/><br/>They have a new teenage mutant ninja turtles pizza shaped ice cream which is for a limited time only, so the line was was super long (maybe 20 people), but totally worth it.<br/><br/>The limited addition ice cream was delicious and I can't wait to go back and get it again before its gone. <br/><br/>The people that work there are super nice and friendly and very helpful.<br/><br/>IG-@traveleen_gurl</span>\n",
      "<span class=\"lemon--span__373c0__3997G raw__373c0__3rcx7\" lang=\"en\">I got the limited time nonja turtle ice cream pizza. It was so cute and delicious. Love the creativity they put behind it. <br/>But, their ice cream looked amazing as well! Will totally be back to try it !</span>\n",
      "<span class=\"lemon--span__373c0__3997G raw__373c0__3rcx7\" lang=\"en\">Soft serve ice cream  cereal  thé two combined? !!!!! I was worried the ice cream would be overly sweet like \"cold stone\" but it is nothing like that. I didn't even think I would finish the portion I got and yet I did because it was so damn good! If you are an ice cream person you gotta try this it is just so fun!</span>\n",
      "<span class=\"lemon--span__373c0__3997G raw__373c0__3rcx7\" lang=\"en\">This was my first time at Milk &amp; Cream Cereal Bar it was such a cute ice cream shop. I got a cup of vanilla cookie dough with lucky charms and fruity pebbles blended with a topping of fruity pebbles. I accidentally forgot to tell them I wanted the fruity pebbles topping and were accommodating and didn't charge me extra for the mistake. Delicious ice cream with a unique and quirky atmosphere!</span>\n",
      "<span class=\"lemon--span__373c0__3997G raw__373c0__3rcx7\" lang=\"en\">I really enjoy coming here every now and then. They have a really great set up currently, you go to the front and just order your ice cream. They have various cereal options and toppings. I ended up getting the lucky charms ice cream blended with vanilla ice cream and topped it off with rainbow sprinkles . <br/>The ice cream was fantastic!</span>\n",
      "<span class=\"lemon--span__373c0__3997G raw__373c0__3rcx7\" lang=\"en\">Milk &amp; Cream is the type of place with a line outside no matter what time of day it is - especially now that they have a No ha Turtles collab happening. Fortunately, it lives up to the hype! They don't have ice cream cones - only cups - at the moment, which was a bit disappointing, but the Cookie Crisp carnival was still incredible, so I feel comfortable handing out five stars. (I dislike the cornflake ice cream at Milk Bar and was wary of trying more cereal milk ice cream, but this exceeded my expectations.) Can't wait to return!</span>\n",
      "<span class=\"lemon--span__373c0__3997G raw__373c0__3rcx7\" lang=\"en\">Came here after seeing a news report on ABC 7 and my<br/>bf and I fell in love with this place. They have a large variety of cereals and toppings that you can mix and match to your liking. We've been here twice this past week and we're def gonna make this our go to spot for ice cream the next time we're in the area or when the mood strikes.</span>\n",
      "<span class=\"lemon--span__373c0__3997G raw__373c0__3rcx7\" lang=\"en\">During COVID: I've had Milk &amp; cream on my radar for months now and finally had a chance to stop by. They are open during quarantine. <br/><br/>I ordered a vanilla based cone with Cookie Crisp and Reese's puffs with crushed M&amp;M topping (3.5/5). Was it good? Yes. But it wasn't memorable enough for me to crave it again. I also didn't realize that they actually blend the cereal into the ice cream. I do typically like cereal as a topping.<br/><br/>My partner got the frooty special cone, which I must admit I was not a fan. Its taste was too much like artificial grape and it's a big minus when I see gummies as a topping on ice cream due to it becoming very hard and unpleasant to eat.<br/><br/>I personally like the ice cream at Soft Swerve much more as I love taro ice cream. That being said, if you are looking for an instagramable cereal soft serve fix, this will definitely hit it.</span>\n",
      "<span class=\"lemon--span__373c0__3997G raw__373c0__3rcx7\" lang=\"en\">Dang this is delicious! The cereal is still crunchy inside the soft serve, how do they do that? There's a system to this: you pick the base + cereal + more cereal dust on top + a drizzle. I went with a vanilla base + captain crunch + fruity pebbles + honey drizzle. My total came out to be $7.5. Nice small outdoor setting outside, no tables or chairs just a designated place to stand around. Would I come back? Heck yah.</span>\n",
      "<span class=\"lemon--span__373c0__3997G raw__373c0__3rcx7\" lang=\"en\">One of my favorite cereal icecream places. I'm a huge cereal and icecream/froyo fan so I've tried all the ones in the area, including the famous milk bar cereal soft serve. None compare.<br/>For starters they have every single cereal you could ever want to make a custom sundae. They grind whatever you choose into the soft serve which truly encompasses the flavor throughout. Then if that wasn't already good enough- you get to add more cereal to the top! (And whatever other toppings you choose)<br/>I have also had the pre created sundae combos which are also equally delicious. <br/><br/>Ends up costing around $8 but is a large portion (have shared with my sister). I have/ will continue to go back.</span>\n",
      "<span class=\"lemon--span__373c0__3997G raw__373c0__3rcx7\" lang=\"en\">Love this place. It's great that you have so many choices and combinations when it comes to picking a flavor. My personal favorite is cap n crunch with vanilla topped with banana and toasted coconut. I've been twice so far and the only thing I wish they had were berries, both times they've been unavailable. They do have outdoor seating, which is very nice in the current climate. This place is very popular, so be prepared for a line, but it's worth the wait.</span>\n",
      "<span class=\"lemon--span__373c0__3997G raw__373c0__3rcx7\" lang=\"en\">Love this place so much. There was a long line but it was relatively quick and easy. Quite pricy for what it is but I would still go again</span>\n",
      "<span class=\"lemon--span__373c0__3997G raw__373c0__3rcx7\" lang=\"en\">I was expected to found out they open milk bar here, we thought it was milk bar momofoku. So we were disappointed at first. But we ended up order some ice creams anyway. It was delicious and I get to add cereal that I love on my as well.</span>\n",
      "<span class=\"lemon--span__373c0__3997G raw__373c0__3rcx7\" lang=\"en\">I truly love the idea of make-your-own ice cream so when I heard about this place, it immediately went on my list!<br/><br/>We showed up on a warm, weekend evening, so of course, there was a line out the door (literally). But we waited, because that's how bad I wanted to try it.<br/><br/>It was seriously difficult coming up with a combination that (1) included everything I wanted but (2) also went well together. I finally picked a combination of cinnamon toast crunch and captain crunch, topped with chocolate cookie crunch and honey drizzle.<br/><br/>I thought the ice cream was delicious but somehow the combination did not do anything outstanding. Maybe if I go back I will just choose one of their recommended combinations instead of making my own. I will also return when the hype about this place has settled down and the lines are a bit smaller.</span>\n",
      "<span class=\"lemon--span__373c0__3997G raw__373c0__3rcx7\" lang=\"en\">OMG this is the best soft serve I've EVER had &amp; that's coming from a loyal ice cream girl. <br/>This place is the cutest little shop with modern mint green and gold accents, perfect for your next photoshoot! We sat in the front area and it felt very private despite being right by the doorway. <br/><br/>The Froot Berry Bliss -- Absolutely the best bang for your buck!<br/><br/>The girl who helped us out recommended this in the green fruity pebble waffle cone and it was DE-LI-CIOUS. You'd think something this fruitilicious would be overwhelming and too sweet but this is something I would definitely come back to NYC just to taste again. It had the perfect balance of fruity and creamy goodness that hits the spot. For $7 you get a heaping swirl of berry-infused soft serve, speckled with gummy bears and dusted with froot loop crumble. This was the perfect after-dinner dessert to share with my boyfriend.<br/><br/>I'm not a big fan of soft serve cause I like texture to my frozen desserts, but this is definitely an exception. I could go on for days talking about this place but I'll let you be the judge! If you're in the neighborhood or coming to visit NYC, definitely stop by Milk &amp; Cream!</span>\n"
     ]
    }
   ],
   "source": [
    "review=[]\n",
    "for i in soup.find_all('p',{'class':'lemon--p__373c0__3Qnnj text__373c0__2Kxyz comment__373c0__3EKjH text-color--normal__373c0__3xep9 text-align--left__373c0__2XGa-'}):\n",
    "  per_review=i.find('span')\n",
    "  print(per_review)\n",
    "  review.append(per_review)"
   ]
  },
  {
   "cell_type": "code",
   "execution_count": 8,
   "metadata": {
    "scrolled": true
   },
   "outputs": [
    {
     "name": "stdout",
     "output_type": "stream",
     "text": [
      "I love this place! The last time I went was before Covid, but every time I've gone the service is good and the ice cream is always so tasty. I love bringing out of town friends here as its a great fun foodie place to show off.\n",
      "They had a long line on a Friday during COVID-19, most people respected the 6 ft distance but many didn't. The ice cream is delicious and I love the cereal twist.\n",
      "there was a line at the store today (Sunday) with a ~10 wait! the workers wore masks and were patient. the serving size was very generous, the cereal well blended &amp; mixed, the topping crushed and sprinkled on top. the standard order was 1 ice cream base (vanilla/cookie dough), 1 cereal, 1 topping. the cereal they give is a generous amount as I tasted it sufficiently in each bite:) the topping was crushed so fine you couldn't tell what it was sprinkled a thin layer on top of my ice cream, overall delicious:p the vanilla base was not too sweet and didn't overpower the the taste of the cereal &amp; toppings. A gentle reminder to those visiting during COVID - please wear a mask to respect workers and vulnerable populations:)\n",
      "After a nice day at the park, my friend and I decided to go into Chinatown to get some ice cream. We decided on Milk &amp; Cream because it has really good reviews, and when we saw the line we knew the reviews must have been true. Order:- Vanilla ice cream, Oreo cereal, rainbow sprinkles Pros:- Great tasting ice cream - Cute outdoor seating area- Themed ~ Mutant Ninja Turtles theme rn Cons:- Long lines- Your typical pricey, but pretty ice cream Overall: Great tasting ice cream. If you don't like super sweet ice cream, I wouldn't recommend the fruity pebbles. But my oreo ice cream was delicious\n",
      "Ice cream blended with any cereal of your choice is the premise of a business pulled straight out of a sugar fiend's wildest dreams, and here it is come to life. They've really blown up after many media appearances as well as partnerships with Spot Dessert Bar, with influencers like @foodbabyny, and even with Nickelodeon. Their marketing tactics are slick but they actually have a quality product to show for it. My sweet tooth has brought me here on a number of occasions over the years and I've tried everything from their chocolate s'mores galore to their milkshakes.I think what really worked for Milk &amp; Cream is that they were one of the earlier purveyors of dessert made for the Instagram age. Each ice cream swirl is made picture perfectly, replete with cute toppings like teddy grahams and caramel drizzles. There's a bright neon sign up front that people love to take photos in front of. Unlike many other social media dessert playgrounds that lack any substance, the ice cream at Milk &amp; Cream is quite tasty, and you have a long list of choices when it comes to what cereal you want blended into it. Most of the classics are on the menu, and the machine they have to blend the ingredients together does a great job of distributing just the right amount of cereal throughout the ice cream, so each bite is equally satisfying.With every subsequent visit I am finding the ice cream here more and more overly sweet, and it doesn't help that every single cereal choice they have is a very sweet one, almost without exception. It would be nice to have more neutral options like Crispx, plain Cheerios, or even Kix, since the ice cream itself is already very sweet. I realize though they're not catering to palates like mine, as much as I crave sweets, but to people who would gladly make \"there's no such thing as too sweet\" the mantra of their life. If this is you, this is your place.\n",
      "I love this place! Such a cool concept. They have two ice cream flavors, vanilla and cookies and cream and you are allowed to mix in any cereal into the ice cream.They have a new teenage mutant ninja turtles pizza shaped ice cream which is for a limited time only, so the line was was super long (maybe 20 people), but totally worth it.The limited addition ice cream was delicious and I can't wait to go back and get it again before its gone. The people that work there are super nice and friendly and very helpful.IG-@traveleen_gurl\n",
      "I got the limited time nonja turtle ice cream pizza. It was so cute and delicious. Love the creativity they put behind it. But, their ice cream looked amazing as well! Will totally be back to try it !\n",
      "Soft serve ice cream  cereal  thé two combined? !!!!! I was worried the ice cream would be overly sweet like \"cold stone\" but it is nothing like that. I didn't even think I would finish the portion I got and yet I did because it was so damn good! If you are an ice cream person you gotta try this it is just so fun!\n",
      "This was my first time at Milk &amp; Cream Cereal Bar it was such a cute ice cream shop. I got a cup of vanilla cookie dough with lucky charms and fruity pebbles blended with a topping of fruity pebbles. I accidentally forgot to tell them I wanted the fruity pebbles topping and were accommodating and didn't charge me extra for the mistake. Delicious ice cream with a unique and quirky atmosphere!\n",
      "I really enjoy coming here every now and then. They have a really great set up currently, you go to the front and just order your ice cream. They have various cereal options and toppings. I ended up getting the lucky charms ice cream blended with vanilla ice cream and topped it off with rainbow sprinkles . The ice cream was fantastic!\n",
      "Milk &amp; Cream is the type of place with a line outside no matter what time of day it is - especially now that they have a No ha Turtles collab happening. Fortunately, it lives up to the hype! They don't have ice cream cones - only cups - at the moment, which was a bit disappointing, but the Cookie Crisp carnival was still incredible, so I feel comfortable handing out five stars. (I dislike the cornflake ice cream at Milk Bar and was wary of trying more cereal milk ice cream, but this exceeded my expectations.) Can't wait to return!\n",
      "Came here after seeing a news report on ABC 7 and mybf and I fell in love with this place. They have a large variety of cereals and toppings that you can mix and match to your liking. We've been here twice this past week and we're def gonna make this our go to spot for ice cream the next time we're in the area or when the mood strikes.\n",
      "During COVID: I've had Milk &amp; cream on my radar for months now and finally had a chance to stop by. They are open during quarantine. I ordered a vanilla based cone with Cookie Crisp and Reese's puffs with crushed M&amp;M topping (3.5/5). Was it good? Yes. But it wasn't memorable enough for me to crave it again. I also didn't realize that they actually blend the cereal into the ice cream. I do typically like cereal as a topping.My partner got the frooty special cone, which I must admit I was not a fan. Its taste was too much like artificial grape and it's a big minus when I see gummies as a topping on ice cream due to it becoming very hard and unpleasant to eat.I personally like the ice cream at Soft Swerve much more as I love taro ice cream. That being said, if you are looking for an instagramable cereal soft serve fix, this will definitely hit it.\n",
      "Dang this is delicious! The cereal is still crunchy inside the soft serve, how do they do that? There's a system to this: you pick the base + cereal + more cereal dust on top + a drizzle. I went with a vanilla base + captain crunch + fruity pebbles + honey drizzle. My total came out to be $7.5. Nice small outdoor setting outside, no tables or chairs just a designated place to stand around. Would I come back? Heck yah.\n",
      "One of my favorite cereal icecream places. I'm a huge cereal and icecream/froyo fan so I've tried all the ones in the area, including the famous milk bar cereal soft serve. None compare.For starters they have every single cereal you could ever want to make a custom sundae. They grind whatever you choose into the soft serve which truly encompasses the flavor throughout. Then if that wasn't already good enough- you get to add more cereal to the top! (And whatever other toppings you choose)I have also had the pre created sundae combos which are also equally delicious. Ends up costing around $8 but is a large portion (have shared with my sister). I have/ will continue to go back.\n",
      "Love this place. It's great that you have so many choices and combinations when it comes to picking a flavor. My personal favorite is cap n crunch with vanilla topped with banana and toasted coconut. I've been twice so far and the only thing I wish they had were berries, both times they've been unavailable. They do have outdoor seating, which is very nice in the current climate. This place is very popular, so be prepared for a line, but it's worth the wait.\n",
      "Love this place so much. There was a long line but it was relatively quick and easy. Quite pricy for what it is but I would still go again\n",
      "I was expected to found out they open milk bar here, we thought it was milk bar momofoku. So we were disappointed at first. But we ended up order some ice creams anyway. It was delicious and I get to add cereal that I love on my as well.\n",
      "I truly love the idea of make-your-own ice cream so when I heard about this place, it immediately went on my list!We showed up on a warm, weekend evening, so of course, there was a line out the door (literally). But we waited, because that's how bad I wanted to try it.It was seriously difficult coming up with a combination that (1) included everything I wanted but (2) also went well together. I finally picked a combination of cinnamon toast crunch and captain crunch, topped with chocolate cookie crunch and honey drizzle.I thought the ice cream was delicious but somehow the combination did not do anything outstanding. Maybe if I go back I will just choose one of their recommended combinations instead of making my own. I will also return when the hype about this place has settled down and the lines are a bit smaller.\n",
      "OMG this is the best soft serve I've EVER had &amp; that's coming from a loyal ice cream girl. This place is the cutest little shop with modern mint green and gold accents, perfect for your next photoshoot! We sat in the front area and it felt very private despite being right by the doorway. The Froot Berry Bliss -- Absolutely the best bang for your buck!The girl who helped us out recommended this in the green fruity pebble waffle cone and it was DE-LI-CIOUS. You'd think something this fruitilicious would be overwhelming and too sweet but this is something I would definitely come back to NYC just to taste again. It had the perfect balance of fruity and creamy goodness that hits the spot. For $7 you get a heaping swirl of berry-infused soft serve, speckled with gummy bears and dusted with froot loop crumble. This was the perfect after-dinner dessert to share with my boyfriend.I'm not a big fan of soft serve cause I like texture to my frozen desserts, but this is definitely an exception. I could go on for days talking about this place but I'll let you be the judge! If you're in the neighborhood or coming to visit NYC, definitely stop by Milk &amp; Cream!\n"
     ]
    }
   ],
   "source": [
    "# LIMPIANDO\n",
    "New_Review= []\n",
    "for each in review:\n",
    "    new_each=str(each).replace('<br/>','')\n",
    "    new_each=new_each[68:-7]\n",
    "    print(new_each)\n",
    "    New_Review.append(new_each)\n"
   ]
  },
  {
   "cell_type": "code",
   "execution_count": null,
   "metadata": {},
   "outputs": [],
   "source": [
    "print(New_Review[6])"
   ]
  },
  {
   "cell_type": "markdown",
   "metadata": {
    "id": "Gt9itVbSlDiZ"
   },
   "source": [
    "**Completar guiandose de:** https://medium.com/@melisa_40349/web-scraping-con-python-gu%C3%ADa-paso-a-paso-d209f0dd44e4 **para scrapear las reseñas de:**https://www.yelp.com/biz/milk-and-cream-cereal-bar-new-york?osq=Ice+Cream"
   ]
  },
  {
   "cell_type": "code",
   "execution_count": 4,
   "metadata": {
    "scrolled": true
   },
   "outputs": [
    {
     "name": "stdout",
     "output_type": "stream",
     "text": [
      "<a class=\"lemon--a__373c0__IEZFH link__373c0__1G70M link-color--inherit__373c0__3dzpk link-size--inherit__373c0__1VFlE\" href=\"/user_details?userid=d4mdYchScnaIY34PQmvfoA\" name=\"\" rel=\"\" target=\"\">Sarah B.</a>\n",
      "<a class=\"lemon--a__373c0__IEZFH link__373c0__1G70M link-color--inherit__373c0__3dzpk link-size--inherit__373c0__1VFlE\" href=\"/user_details?userid=_Lhqa0Tz2669uzxTa0fLZw\" name=\"\" rel=\"\" target=\"\">Charlotte B.</a>\n",
      "<a class=\"lemon--a__373c0__IEZFH link__373c0__1G70M link-color--inherit__373c0__3dzpk link-size--inherit__373c0__1VFlE\" href=\"/user_details?userid=C4s9pG1NWs1Gw5CUQZu_Rw\" name=\"\" rel=\"\" target=\"\">Julie C.</a>\n",
      "<a class=\"lemon--a__373c0__IEZFH link__373c0__1G70M link-color--inherit__373c0__3dzpk link-size--inherit__373c0__1VFlE\" href=\"/user_details?userid=psSh0DDsrRfQWNL7eGHQMQ\" name=\"\" rel=\"\" target=\"\">Monicka C.</a>\n",
      "<a class=\"lemon--a__373c0__IEZFH link__373c0__1G70M link-color--inherit__373c0__3dzpk link-size--inherit__373c0__1VFlE\" href=\"/user_details?userid=VLTBPUrbNRR-f84h-altQw\" name=\"\" rel=\"\" target=\"\">Morlene C.</a>\n",
      "<a class=\"lemon--a__373c0__IEZFH link__373c0__1G70M link-color--inherit__373c0__3dzpk link-size--inherit__373c0__1VFlE\" href=\"/user_details?userid=E5ccoYFc2Ka7edoPmvo_Xg\" name=\"\" rel=\"\" target=\"\">Gurleen K.</a>\n",
      "<a class=\"lemon--a__373c0__IEZFH link__373c0__1G70M link-color--inherit__373c0__3dzpk link-size--inherit__373c0__1VFlE\" href=\"/user_details?userid=Zc0RzI3Fi-dJGoZhXfbL_w\" name=\"\" rel=\"\" target=\"\">Sharleen S.</a>\n",
      "<a class=\"lemon--a__373c0__IEZFH link__373c0__1G70M link-color--inherit__373c0__3dzpk link-size--inherit__373c0__1VFlE\" href=\"/user_details?userid=kGZFPmshoteBZUTE3K6j7Q\" name=\"\" rel=\"\" target=\"\">Ashley C.</a>\n",
      "<a class=\"lemon--a__373c0__IEZFH link__373c0__1G70M link-color--inherit__373c0__3dzpk link-size--inherit__373c0__1VFlE\" href=\"/user_details?userid=B9NLsaJ_0Cq2M9_GjbScJQ\" name=\"\" rel=\"\" target=\"\">Stefanie M.</a>\n",
      "<a class=\"lemon--a__373c0__IEZFH link__373c0__1G70M link-color--inherit__373c0__3dzpk link-size--inherit__373c0__1VFlE\" href=\"/user_details?userid=y4xF0F9wKfarJVJ-f3MhZg\" name=\"\" rel=\"\" target=\"\">Shaima C.</a>\n",
      "<a class=\"lemon--a__373c0__IEZFH link__373c0__1G70M link-color--inherit__373c0__3dzpk link-size--inherit__373c0__1VFlE\" href=\"/user_details?userid=HVQKFDi-vZbawtmLMq3ZOw\" name=\"\" rel=\"\" target=\"\">Gab G.</a>\n",
      "<a class=\"lemon--a__373c0__IEZFH link__373c0__1G70M link-color--inherit__373c0__3dzpk link-size--inherit__373c0__1VFlE\" href=\"/user_details?userid=819HhyioQgN8Rl1T8sTtFQ\" name=\"\" rel=\"\" target=\"\">Kina J.</a>\n",
      "<a class=\"lemon--a__373c0__IEZFH link__373c0__1G70M link-color--inherit__373c0__3dzpk link-size--inherit__373c0__1VFlE\" href=\"/user_details?userid=geKimmY-EivI7AUMJr5ARw\" name=\"\" rel=\"\" target=\"\">Leemor Y.</a>\n",
      "<a class=\"lemon--a__373c0__IEZFH link__373c0__1G70M link-color--inherit__373c0__3dzpk link-size--inherit__373c0__1VFlE\" href=\"/user_details?userid=D1dyxaYtdQbAA77u3Mv3Xw\" name=\"\" rel=\"\" target=\"\">Florence V.</a>\n",
      "<a class=\"lemon--a__373c0__IEZFH link__373c0__1G70M link-color--inherit__373c0__3dzpk link-size--inherit__373c0__1VFlE\" href=\"/user_details?userid=NDBiknJWS50Wwd65orCr-w\" name=\"\" rel=\"\" target=\"\">Rachel S.</a>\n",
      "<a class=\"lemon--a__373c0__IEZFH link__373c0__1G70M link-color--inherit__373c0__3dzpk link-size--inherit__373c0__1VFlE\" href=\"/user_details?userid=cr5nDrM4BJjhJV0NPXtHwg\" name=\"\" rel=\"\" target=\"\">Lauren O.</a>\n",
      "<a class=\"lemon--a__373c0__IEZFH link__373c0__1G70M link-color--inherit__373c0__3dzpk link-size--inherit__373c0__1VFlE\" href=\"/user_details?userid=7aDXvaEV9iahodPvvW60Zg\" name=\"\" rel=\"\" target=\"\">Tiffany M.</a>\n",
      "<a class=\"lemon--a__373c0__IEZFH link__373c0__1G70M link-color--inherit__373c0__3dzpk link-size--inherit__373c0__1VFlE\" href=\"/user_details?userid=kF8JRkSYKUp6CbvVMnbcfw\" name=\"\" rel=\"\" target=\"\">Araya M.</a>\n",
      "<a class=\"lemon--a__373c0__IEZFH link__373c0__1G70M link-color--inherit__373c0__3dzpk link-size--inherit__373c0__1VFlE\" href=\"/user_details?userid=k_RVNcle2qUwfgrxH-YO9g\" name=\"\" rel=\"\" target=\"\">Eliana W.</a>\n",
      "<a class=\"lemon--a__373c0__IEZFH link__373c0__1G70M link-color--inherit__373c0__3dzpk link-size--inherit__373c0__1VFlE\" href=\"/user_details?userid=RIXK3lTILVguwWr7sGtnUg\" name=\"\" rel=\"\" target=\"\">Adrie S.</a>\n"
     ]
    }
   ],
   "source": [
    "usuarios=[]\n",
    "for i in soup.find_all('span',{'class':'lemon--span__373c0__3997G text__373c0__2Kxyz fs-block text-color--black-regular__373c0__2vGEn text-align--left__373c0__2XGa- text-weight--bold__373c0__1elNz text-size--large__373c0__3t60B'}):\n",
    "  per_usuarios=i.find('a')\n",
    "  print(per_usuarios)\n",
    "  usuarios.append(per_usuarios)"
   ]
  },
  {
   "cell_type": "code",
   "execution_count": 16,
   "metadata": {},
   "outputs": [
    {
     "name": "stdout",
     "output_type": "stream",
     "text": [
      "[<a class=\"lemon--a__373c0__IEZFH link__373c0__1G70M link-color--inherit__373c0__3dzpk link-size--inherit__373c0__1VFlE\" href=\"/user_details?userid=d4mdYchScnaIY34PQmvfoA\" name=\"\" rel=\"\" target=\"\">Sarah B.</a>, <a class=\"lemon--a__373c0__IEZFH link__373c0__1G70M link-color--inherit__373c0__3dzpk link-size--inherit__373c0__1VFlE\" href=\"/user_details?userid=_Lhqa0Tz2669uzxTa0fLZw\" name=\"\" rel=\"\" target=\"\">Charlotte B.</a>, <a class=\"lemon--a__373c0__IEZFH link__373c0__1G70M link-color--inherit__373c0__3dzpk link-size--inherit__373c0__1VFlE\" href=\"/user_details?userid=C4s9pG1NWs1Gw5CUQZu_Rw\" name=\"\" rel=\"\" target=\"\">Julie C.</a>, <a class=\"lemon--a__373c0__IEZFH link__373c0__1G70M link-color--inherit__373c0__3dzpk link-size--inherit__373c0__1VFlE\" href=\"/user_details?userid=psSh0DDsrRfQWNL7eGHQMQ\" name=\"\" rel=\"\" target=\"\">Monicka C.</a>, <a class=\"lemon--a__373c0__IEZFH link__373c0__1G70M link-color--inherit__373c0__3dzpk link-size--inherit__373c0__1VFlE\" href=\"/user_details?userid=VLTBPUrbNRR-f84h-altQw\" name=\"\" rel=\"\" target=\"\">Morlene C.</a>, <a class=\"lemon--a__373c0__IEZFH link__373c0__1G70M link-color--inherit__373c0__3dzpk link-size--inherit__373c0__1VFlE\" href=\"/user_details?userid=E5ccoYFc2Ka7edoPmvo_Xg\" name=\"\" rel=\"\" target=\"\">Gurleen K.</a>, <a class=\"lemon--a__373c0__IEZFH link__373c0__1G70M link-color--inherit__373c0__3dzpk link-size--inherit__373c0__1VFlE\" href=\"/user_details?userid=Zc0RzI3Fi-dJGoZhXfbL_w\" name=\"\" rel=\"\" target=\"\">Sharleen S.</a>, <a class=\"lemon--a__373c0__IEZFH link__373c0__1G70M link-color--inherit__373c0__3dzpk link-size--inherit__373c0__1VFlE\" href=\"/user_details?userid=kGZFPmshoteBZUTE3K6j7Q\" name=\"\" rel=\"\" target=\"\">Ashley C.</a>, <a class=\"lemon--a__373c0__IEZFH link__373c0__1G70M link-color--inherit__373c0__3dzpk link-size--inherit__373c0__1VFlE\" href=\"/user_details?userid=B9NLsaJ_0Cq2M9_GjbScJQ\" name=\"\" rel=\"\" target=\"\">Stefanie M.</a>, <a class=\"lemon--a__373c0__IEZFH link__373c0__1G70M link-color--inherit__373c0__3dzpk link-size--inherit__373c0__1VFlE\" href=\"/user_details?userid=y4xF0F9wKfarJVJ-f3MhZg\" name=\"\" rel=\"\" target=\"\">Shaima C.</a>, <a class=\"lemon--a__373c0__IEZFH link__373c0__1G70M link-color--inherit__373c0__3dzpk link-size--inherit__373c0__1VFlE\" href=\"/user_details?userid=HVQKFDi-vZbawtmLMq3ZOw\" name=\"\" rel=\"\" target=\"\">Gab G.</a>, <a class=\"lemon--a__373c0__IEZFH link__373c0__1G70M link-color--inherit__373c0__3dzpk link-size--inherit__373c0__1VFlE\" href=\"/user_details?userid=819HhyioQgN8Rl1T8sTtFQ\" name=\"\" rel=\"\" target=\"\">Kina J.</a>, <a class=\"lemon--a__373c0__IEZFH link__373c0__1G70M link-color--inherit__373c0__3dzpk link-size--inherit__373c0__1VFlE\" href=\"/user_details?userid=geKimmY-EivI7AUMJr5ARw\" name=\"\" rel=\"\" target=\"\">Leemor Y.</a>, <a class=\"lemon--a__373c0__IEZFH link__373c0__1G70M link-color--inherit__373c0__3dzpk link-size--inherit__373c0__1VFlE\" href=\"/user_details?userid=D1dyxaYtdQbAA77u3Mv3Xw\" name=\"\" rel=\"\" target=\"\">Florence V.</a>, <a class=\"lemon--a__373c0__IEZFH link__373c0__1G70M link-color--inherit__373c0__3dzpk link-size--inherit__373c0__1VFlE\" href=\"/user_details?userid=NDBiknJWS50Wwd65orCr-w\" name=\"\" rel=\"\" target=\"\">Rachel S.</a>, <a class=\"lemon--a__373c0__IEZFH link__373c0__1G70M link-color--inherit__373c0__3dzpk link-size--inherit__373c0__1VFlE\" href=\"/user_details?userid=cr5nDrM4BJjhJV0NPXtHwg\" name=\"\" rel=\"\" target=\"\">Lauren O.</a>, <a class=\"lemon--a__373c0__IEZFH link__373c0__1G70M link-color--inherit__373c0__3dzpk link-size--inherit__373c0__1VFlE\" href=\"/user_details?userid=7aDXvaEV9iahodPvvW60Zg\" name=\"\" rel=\"\" target=\"\">Tiffany M.</a>, <a class=\"lemon--a__373c0__IEZFH link__373c0__1G70M link-color--inherit__373c0__3dzpk link-size--inherit__373c0__1VFlE\" href=\"/user_details?userid=kF8JRkSYKUp6CbvVMnbcfw\" name=\"\" rel=\"\" target=\"\">Araya M.</a>, <a class=\"lemon--a__373c0__IEZFH link__373c0__1G70M link-color--inherit__373c0__3dzpk link-size--inherit__373c0__1VFlE\" href=\"/user_details?userid=k_RVNcle2qUwfgrxH-YO9g\" name=\"\" rel=\"\" target=\"\">Eliana W.</a>, <a class=\"lemon--a__373c0__IEZFH link__373c0__1G70M link-color--inherit__373c0__3dzpk link-size--inherit__373c0__1VFlE\" href=\"/user_details?userid=RIXK3lTILVguwWr7sGtnUg\" name=\"\" rel=\"\" target=\"\">Adrie S.</a>]\n"
     ]
    }
   ],
   "source": [
    "New_usuarios=[]\n",
    "for i in usuarios:\n",
    "    New_usuarios.append(i)\n",
    "print(New_usuarios)"
   ]
  },
  {
   "cell_type": "code",
   "execution_count": 17,
   "metadata": {},
   "outputs": [
    {
     "ename": "TypeError",
     "evalue": "unhashable type: 'slice'",
     "output_type": "error",
     "traceback": [
      "\u001b[1;31m---------------------------------------------------------------------------\u001b[0m",
      "\u001b[1;31mTypeError\u001b[0m                                 Traceback (most recent call last)",
      "\u001b[1;32m<ipython-input-17-fafe046d716c>\u001b[0m in \u001b[0;36m<module>\u001b[1;34m\u001b[0m\n\u001b[0;32m      1\u001b[0m \u001b[0mclean_usuarios\u001b[0m\u001b[1;33m=\u001b[0m\u001b[1;33m[\u001b[0m\u001b[1;33m]\u001b[0m\u001b[1;33m\u001b[0m\u001b[1;33m\u001b[0m\u001b[0m\n\u001b[0;32m      2\u001b[0m \u001b[1;32mfor\u001b[0m \u001b[0mi\u001b[0m \u001b[1;32min\u001b[0m \u001b[0mNew_usuarios\u001b[0m\u001b[1;33m:\u001b[0m\u001b[1;33m\u001b[0m\u001b[1;33m\u001b[0m\u001b[0m\n\u001b[1;32m----> 3\u001b[1;33m     \u001b[0mi\u001b[0m\u001b[1;33m=\u001b[0m\u001b[0mi\u001b[0m\u001b[1;33m[\u001b[0m\u001b[1;36m196\u001b[0m\u001b[1;33m:\u001b[0m\u001b[1;33m-\u001b[0m\u001b[1;36m4\u001b[0m\u001b[1;33m]\u001b[0m\u001b[1;33m\u001b[0m\u001b[1;33m\u001b[0m\u001b[0m\n\u001b[0m\u001b[0;32m      4\u001b[0m     \u001b[0mclean_usuarios\u001b[0m\u001b[1;33m.\u001b[0m\u001b[0mappend\u001b[0m\u001b[1;33m(\u001b[0m\u001b[0mi\u001b[0m\u001b[1;33m)\u001b[0m\u001b[1;33m\u001b[0m\u001b[1;33m\u001b[0m\u001b[0m\n\u001b[0;32m      5\u001b[0m \u001b[0mprint\u001b[0m\u001b[1;33m(\u001b[0m\u001b[0mclean_usuarios\u001b[0m\u001b[1;33m)\u001b[0m\u001b[1;33m\u001b[0m\u001b[1;33m\u001b[0m\u001b[0m\n",
      "\u001b[1;32mC:\\ProgramData\\Anaconda3\\lib\\site-packages\\bs4\\element.py\u001b[0m in \u001b[0;36m__getitem__\u001b[1;34m(self, key)\u001b[0m\n\u001b[0;32m   1319\u001b[0m         \"\"\"tag[key] returns the value of the 'key' attribute for the Tag,\n\u001b[0;32m   1320\u001b[0m         and throws an exception if it's not there.\"\"\"\n\u001b[1;32m-> 1321\u001b[1;33m         \u001b[1;32mreturn\u001b[0m \u001b[0mself\u001b[0m\u001b[1;33m.\u001b[0m\u001b[0mattrs\u001b[0m\u001b[1;33m[\u001b[0m\u001b[0mkey\u001b[0m\u001b[1;33m]\u001b[0m\u001b[1;33m\u001b[0m\u001b[1;33m\u001b[0m\u001b[0m\n\u001b[0m\u001b[0;32m   1322\u001b[0m \u001b[1;33m\u001b[0m\u001b[0m\n\u001b[0;32m   1323\u001b[0m     \u001b[1;32mdef\u001b[0m \u001b[0m__iter__\u001b[0m\u001b[1;33m(\u001b[0m\u001b[0mself\u001b[0m\u001b[1;33m)\u001b[0m\u001b[1;33m:\u001b[0m\u001b[1;33m\u001b[0m\u001b[1;33m\u001b[0m\u001b[0m\n",
      "\u001b[1;31mTypeError\u001b[0m: unhashable type: 'slice'"
     ]
    }
   ],
   "source": [
    "clean_usuarios=[]\n",
    "for i in New_usuarios:\n",
    "    i=i[196:-4]\n",
    "    clean_usuarios.append(i)\n",
    "print(clean_usuarios)"
   ]
  }
 ],
 "metadata": {
  "colab": {
   "collapsed_sections": [],
   "name": "Te damos la bienvenida a Colaboratory",
   "provenance": []
  },
  "kernelspec": {
   "display_name": "Python 3",
   "language": "python",
   "name": "python3"
  },
  "language_info": {
   "codemirror_mode": {
    "name": "ipython",
    "version": 3
   },
   "file_extension": ".py",
   "mimetype": "text/x-python",
   "name": "python",
   "nbconvert_exporter": "python",
   "pygments_lexer": "ipython3",
   "version": "3.7.6"
  }
 },
 "nbformat": 4,
 "nbformat_minor": 1
}
